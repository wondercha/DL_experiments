{
  "nbformat": 4,
  "nbformat_minor": 0,
  "metadata": {
    "colab": {
      "name": "cnn_cifar10_3.ipynb",
      "provenance": [],
      "collapsed_sections": [],
      "authorship_tag": "ABX9TyNK/zPYF4QhTTlfnJDmE5BW",
      "include_colab_link": true
    },
    "kernelspec": {
      "name": "python3",
      "display_name": "Python 3"
    },
    "language_info": {
      "name": "python"
    },
    "accelerator": "GPU"
  },
  "cells": [
    {
      "cell_type": "markdown",
      "metadata": {
        "id": "view-in-github",
        "colab_type": "text"
      },
      "source": [
        "<a href=\"https://colab.research.google.com/github/wondercha/cnn_experiment/blob/main/cnn_cifar10_3.ipynb\" target=\"_parent\"><img src=\"https://colab.research.google.com/assets/colab-badge.svg\" alt=\"Open In Colab\"/></a>"
      ]
    },
    {
      "cell_type": "code",
      "metadata": {
        "id": "YF2g_mKKblKH",
        "colab": {
          "base_uri": "https://localhost:8080/"
        },
        "outputId": "ce74457f-a3fd-4ca6-9827-1f61b6bc6b5b"
      },
      "source": [
        "# Module import\n",
        "import torch\n",
        "import torch.nn as nn\n",
        "import torch.nn.functional as F\n",
        "import torch.optim as optim\n",
        "from torch.utils.data import Dataset, DataLoader\n",
        "import torchvision\n",
        "import torchvision.datasets\n",
        "import torchvision.transforms as transforms\n",
        "\n",
        "import numpy as np\n",
        "import matplotlib.pyplot as plt\n",
        "plt.style.use('seaborn-white')\n",
        "use_duda = torch.cuda.is_available()\n",
        "device = torch.device(\"cuda\" if use_duda else \"cpu\")\n",
        "print(device)"
      ],
      "execution_count": null,
      "outputs": [
        {
          "output_type": "stream",
          "text": [
            "cpu\n"
          ],
          "name": "stdout"
        }
      ]
    },
    {
      "cell_type": "code",
      "metadata": {
        "id": "Sd58Ke6G86LW"
      },
      "source": [
        "# 전처리\n",
        "transform = transforms.Compose([transforms.ToTensor(),\n",
        "                                transforms.Normalize((0.5, 0.5, 0.5), (0.5, 0.5, 0.5))])\n",
        "\n",
        "trainset = torchvision.datasets.CIFAR10(root='./data',\n",
        "                                        train=True,\n",
        "                                        download=True,\n",
        "                                        transform=transform)\n",
        "testset = torchvision.datasets.CIFAR10(root='./data',\n",
        "                                       train=False,\n",
        "                                       download=True,\n",
        "                                       transform=transform)"
      ],
      "execution_count": null,
      "outputs": []
    },
    {
      "cell_type": "code",
      "metadata": {
        "id": "0WbHm0xv97tt"
      },
      "source": [
        "# # If running on Windows and you get a BrokenPipeError, try setting\n",
        "# the num_worker of torch.utils.data.DataLoader() to 0.\n",
        "train_loader = torch.utils.data.DataLoader(trainset,\n",
        "                          batch_size=16,\n",
        "                          shuffle=True,\n",
        "                          num_workers=2)\n",
        "test_loader = DataLoader(testset,\n",
        "                        batch_size =16,\n",
        "                        shuffle=False,\n",
        "                        num_workers=2)"
      ],
      "execution_count": null,
      "outputs": []
    },
    {
      "cell_type": "markdown",
      "metadata": {
        "id": "Y_VvJGukfJzd"
      },
      "source": [
        ""
      ]
    },
    {
      "cell_type": "code",
      "metadata": {
        "id": "7XW-kXI0-DV7"
      },
      "source": [
        "# Define class\n",
        "classes = ('plane', 'car', 'bird', 'cat', 'deer',\n",
        "           'dog', 'frog', 'horse', 'ship', 'truck')\n"
      ],
      "execution_count": null,
      "outputs": []
    },
    {
      "cell_type": "code",
      "metadata": {
        "id": "ln72JYEDImcB"
      },
      "source": [
        "# CNN model\n",
        "class Net(nn.Module):\n",
        "    def __init__(self):\n",
        "        super(Net, self).__init__()\n",
        "        self.layer1 = nn.Sequential(\n",
        "            nn.Conv2d(3, 32, 3), # 30\n",
        "            nn.BatchNorm2d(32),\n",
        "            nn.ReLU(),\n",
        "            nn.MaxPool2d(2,2)  #15\n",
        "            #nn.Dropout(0.5)  \n",
        "            \n",
        "        )\n",
        "        self.layer2 = nn.Sequential(\n",
        "            nn.Conv2d(32, 64, 3, padding=1),  #14\n",
        "            nn.BatchNorm2d(64),\n",
        "            nn.ReLU(),\n",
        "            nn.MaxPool2d(2,2)  #7\n",
        "            #nn.Dropout(0.5)\n",
        "        )\n",
        "        self.layer3 = nn.Sequential(\n",
        "            nn.Conv2d(64, 128, 3, padding=1), #6\n",
        "            nn.BatchNorm2d(128),\n",
        "            nn.MaxPool2d(2,2),  #3\n",
        "            nn.ReLU()\n",
        "        )\n",
        "        self.layer4 = nn.Sequential(\n",
        "            nn.Linear(128*3*3, 400),\n",
        "            nn.Linear(400, 120),\n",
        "            nn.Linear(120, 10)\n",
        "        )\n",
        "\n",
        "    def forward(self, x):\n",
        "        x = self.layer1(x)\n",
        "        x = self.layer2(x)\n",
        "        x = self.layer3(x)\n",
        "        x = x.view(-1, 128*3*3)\n",
        "        x = self.layer4(x)\n",
        "        return x\n"
      ],
      "execution_count": null,
      "outputs": []
    },
    {
      "cell_type": "code",
      "metadata": {
        "colab": {
          "base_uri": "https://localhost:8080/"
        },
        "collapsed": true,
        "id": "GhavtK-u-Ugq",
        "outputId": "a4af187c-4644-46b9-9490-a03532c5887d"
      },
      "source": [
        "net = Net() #.to(device)\n",
        "\n",
        "criterion = nn.CrossEntropyLoss()\n",
        "optimizer = optim.SGD(net.parameters(), lr=0.001, momentum=0.9)\n",
        "\n",
        "# Time Check\n",
        "import timeit\n",
        "start_time = timeit.default_timer() # 시작 시간 체크\n",
        "\n",
        "epochs = 30\n",
        "steps = 0\n",
        "\n",
        "train_losses, test_losses = [], []\n",
        "train_accuracy, test_accuracy = [], []\n",
        "for e in range(epochs):\n",
        "    running_loss = 0\n",
        "    running_acc = 0\n",
        "    running_total = 0\n",
        "    for images, labels in train_loader:\n",
        "\n",
        "        optimizer.zero_grad()\n",
        "\n",
        "        outputs = net(images)\n",
        "        loss = criterion(outputs, labels)\n",
        "        loss.backward()\n",
        "        optimizer.step()\n",
        "\n",
        "        _, preds = torch.max(outputs, 1)\n",
        "\n",
        "        running_loss += loss.item()\n",
        "        running_total += labels.size(0)\n",
        "        running_acc += (preds == labels.data).sum().item()\n",
        "\n",
        "    # for 문이 끝나면 실행한다.\n",
        "    else:\n",
        "        test_loss = 0\n",
        "        accuracy = 0\n",
        "        total = 0\n",
        "        # Turn off gradients for validation, saves memory and computations\n",
        "        with torch.no_grad():\n",
        "            for images, labels in test_loader:\n",
        "                outputs = net(images)\n",
        "                test_loss += criterion(outputs, labels)\n",
        "\n",
        "                _, predicted = torch.max(outputs, 1)\n",
        "                total += labels.size(0)\n",
        "                accuracy += (predicted == labels).sum().item()\n",
        "\n",
        "        train_losses.append(running_loss/len(train_loader))\n",
        "        train_accuracy.append(running_acc/running_total)\n",
        "        test_losses.append(test_loss/len(test_loader))\n",
        "        test_accuracy.append(accuracy/total)\n",
        "        print(\"Epoch: {}/{}.. \".format(e+1, epochs),\n",
        "              \"Training Loss: {:.3f}.. \".format(running_loss/len(train_loader)),\n",
        "              \"Test Loss: {:.3f}.. \".format(test_loss/len(test_loader)),\n",
        "              \"Training Accuracy: {:.3f}.. \".format(running_acc/running_total),\n",
        "              \"Test Accuracy: {:.3f}\".format(accuracy/total))\n",
        "\n",
        "print('Finished Training...')\n",
        "\n",
        "# Waits for everything to finish running \n",
        "terminate_time = timeit.default_timer() # 종료 시간 체크  \n",
        "print(\"%f sec\" % (terminate_time - start_time))"
      ],
      "execution_count": null,
      "outputs": [
        {
          "output_type": "stream",
          "text": [
            "Epoch: 1/30..  Training Loss: 1.286..  Test Loss: 1.030..  Training Accuracy: 0.540..  Test Accuracy: 0.636\n",
            "Epoch: 2/30..  Training Loss: 0.930..  Test Loss: 0.896..  Training Accuracy: 0.675..  Test Accuracy: 0.692\n",
            "Epoch: 3/30..  Training Loss: 0.786..  Test Loss: 0.791..  Training Accuracy: 0.725..  Test Accuracy: 0.732\n",
            "Epoch: 4/30..  Training Loss: 0.691..  Test Loss: 0.797..  Training Accuracy: 0.761..  Test Accuracy: 0.725\n",
            "Epoch: 5/30..  Training Loss: 0.616..  Test Loss: 0.765..  Training Accuracy: 0.787..  Test Accuracy: 0.738\n",
            "Epoch: 6/30..  Training Loss: 0.557..  Test Loss: 0.782..  Training Accuracy: 0.807..  Test Accuracy: 0.740\n",
            "Epoch: 7/30..  Training Loss: 0.502..  Test Loss: 0.773..  Training Accuracy: 0.823..  Test Accuracy: 0.745\n",
            "Epoch: 8/30..  Training Loss: 0.456..  Test Loss: 0.757..  Training Accuracy: 0.839..  Test Accuracy: 0.752\n",
            "Epoch: 9/30..  Training Loss: 0.416..  Test Loss: 0.790..  Training Accuracy: 0.856..  Test Accuracy: 0.753\n",
            "Epoch: 10/30..  Training Loss: 0.376..  Test Loss: 0.783..  Training Accuracy: 0.868..  Test Accuracy: 0.759\n",
            "Epoch: 11/30..  Training Loss: 0.341..  Test Loss: 0.829..  Training Accuracy: 0.881..  Test Accuracy: 0.753\n",
            "Epoch: 12/30..  Training Loss: 0.312..  Test Loss: 0.906..  Training Accuracy: 0.889..  Test Accuracy: 0.744\n",
            "Epoch: 13/30..  Training Loss: 0.285..  Test Loss: 0.923..  Training Accuracy: 0.898..  Test Accuracy: 0.750\n",
            "Epoch: 14/30..  Training Loss: 0.255..  Test Loss: 0.968..  Training Accuracy: 0.909..  Test Accuracy: 0.745\n",
            "Epoch: 15/30..  Training Loss: 0.236..  Test Loss: 0.986..  Training Accuracy: 0.914..  Test Accuracy: 0.747\n",
            "Epoch: 16/30..  Training Loss: 0.213..  Test Loss: 1.001..  Training Accuracy: 0.924..  Test Accuracy: 0.754\n",
            "Epoch: 17/30..  Training Loss: 0.205..  Test Loss: 1.019..  Training Accuracy: 0.925..  Test Accuracy: 0.752\n",
            "Epoch: 18/30..  Training Loss: 0.178..  Test Loss: 1.145..  Training Accuracy: 0.935..  Test Accuracy: 0.742\n",
            "Epoch: 19/30..  Training Loss: 0.176..  Test Loss: 1.159..  Training Accuracy: 0.936..  Test Accuracy: 0.739\n",
            "Epoch: 20/30..  Training Loss: 0.156..  Test Loss: 1.140..  Training Accuracy: 0.944..  Test Accuracy: 0.753\n",
            "Epoch: 21/30..  Training Loss: 0.147..  Test Loss: 1.202..  Training Accuracy: 0.947..  Test Accuracy: 0.748\n",
            "Epoch: 22/30..  Training Loss: 0.138..  Test Loss: 1.208..  Training Accuracy: 0.951..  Test Accuracy: 0.747\n",
            "Epoch: 23/30..  Training Loss: 0.120..  Test Loss: 1.264..  Training Accuracy: 0.957..  Test Accuracy: 0.753\n",
            "Epoch: 24/30..  Training Loss: 0.120..  Test Loss: 1.325..  Training Accuracy: 0.957..  Test Accuracy: 0.743\n",
            "Epoch: 25/30..  Training Loss: 0.111..  Test Loss: 1.301..  Training Accuracy: 0.960..  Test Accuracy: 0.749\n",
            "Epoch: 26/30..  Training Loss: 0.111..  Test Loss: 1.351..  Training Accuracy: 0.960..  Test Accuracy: 0.746\n",
            "Epoch: 27/30..  Training Loss: 0.092..  Test Loss: 1.389..  Training Accuracy: 0.968..  Test Accuracy: 0.744\n",
            "Epoch: 28/30..  Training Loss: 0.087..  Test Loss: 1.374..  Training Accuracy: 0.969..  Test Accuracy: 0.748\n",
            "Epoch: 29/30..  Training Loss: 0.086..  Test Loss: 1.452..  Training Accuracy: 0.970..  Test Accuracy: 0.748\n",
            "Epoch: 30/30..  Training Loss: 0.080..  Test Loss: 1.491..  Training Accuracy: 0.972..  Test Accuracy: 0.745\n",
            "Finished Training...\n",
            "4580.422550 sec\n"
          ],
          "name": "stdout"
        }
      ]
    },
    {
      "cell_type": "code",
      "metadata": {
        "colab": {
          "base_uri": "https://localhost:8080/",
          "height": 244
        },
        "id": "_lKkM-8uwgfG",
        "outputId": "804181cf-c222-4080-c325-dfa085f6509c"
      },
      "source": [
        "import matplotlib.pyplot as plt\n",
        "import datetime\n",
        "\n",
        "current_dtime = datetime.datetime.now().strftime('%Y%m%d-%H%M%S')\n",
        "rslt_fname = './data/loss_' + current_dtime + '.png'\n",
        "\n",
        "plt.plot(train_losses, label='training loss')\n",
        "plt.plot(test_losses, label='Validation loss')\n",
        "plt.legend(frameon=False)\n",
        "plt.show()"
      ],
      "execution_count": null,
      "outputs": [
        {
          "output_type": "error",
          "ename": "NameError",
          "evalue": "ignored",
          "traceback": [
            "\u001b[0;31m---------------------------------------------------------------------------\u001b[0m",
            "\u001b[0;31mNameError\u001b[0m                                 Traceback (most recent call last)",
            "\u001b[0;32m<ipython-input-1-4b1807544e7a>\u001b[0m in \u001b[0;36m<module>\u001b[0;34m()\u001b[0m\n\u001b[1;32m      5\u001b[0m \u001b[0mrslt_fname\u001b[0m \u001b[0;34m=\u001b[0m \u001b[0;34m'./data/loss_'\u001b[0m \u001b[0;34m+\u001b[0m \u001b[0mcurrent_dtime\u001b[0m \u001b[0;34m+\u001b[0m \u001b[0;34m'.png'\u001b[0m\u001b[0;34m\u001b[0m\u001b[0;34m\u001b[0m\u001b[0m\n\u001b[1;32m      6\u001b[0m \u001b[0;34m\u001b[0m\u001b[0m\n\u001b[0;32m----> 7\u001b[0;31m \u001b[0mplt\u001b[0m\u001b[0;34m.\u001b[0m\u001b[0mplot\u001b[0m\u001b[0;34m(\u001b[0m\u001b[0mtrain_losses\u001b[0m\u001b[0;34m,\u001b[0m \u001b[0mlabel\u001b[0m\u001b[0;34m=\u001b[0m\u001b[0;34m'training loss'\u001b[0m\u001b[0;34m)\u001b[0m\u001b[0;34m\u001b[0m\u001b[0;34m\u001b[0m\u001b[0m\n\u001b[0m\u001b[1;32m      8\u001b[0m \u001b[0mplt\u001b[0m\u001b[0;34m.\u001b[0m\u001b[0mplot\u001b[0m\u001b[0;34m(\u001b[0m\u001b[0mtest_losses\u001b[0m\u001b[0;34m,\u001b[0m \u001b[0mlabel\u001b[0m\u001b[0;34m=\u001b[0m\u001b[0;34m'Validation loss'\u001b[0m\u001b[0;34m)\u001b[0m\u001b[0;34m\u001b[0m\u001b[0;34m\u001b[0m\u001b[0m\n\u001b[1;32m      9\u001b[0m \u001b[0mplt\u001b[0m\u001b[0;34m.\u001b[0m\u001b[0mlegend\u001b[0m\u001b[0;34m(\u001b[0m\u001b[0mframeon\u001b[0m\u001b[0;34m=\u001b[0m\u001b[0;32mFalse\u001b[0m\u001b[0;34m)\u001b[0m\u001b[0;34m\u001b[0m\u001b[0;34m\u001b[0m\u001b[0m\n",
            "\u001b[0;31mNameError\u001b[0m: name 'train_losses' is not defined"
          ]
        }
      ]
    },
    {
      "cell_type": "code",
      "metadata": {
        "colab": {
          "base_uri": "https://localhost:8080/",
          "height": 262
        },
        "id": "Emr74rhd9DRF",
        "outputId": "1adee3c2-f03b-4449-b771-a9fe1a5c9bec"
      },
      "source": [
        "plt.plot(train_accuracy, label='training accuracy')\n",
        "plt.plot(test_accuracy, label='test accuracy')\n",
        "plt.legend(frameon=False)\n",
        "plt.show()"
      ],
      "execution_count": null,
      "outputs": [
        {
          "output_type": "display_data",
          "data": {
            "image/png": "[encoded data removed]",
            "text/plain": [
              "<Figure size 432x288 with 1 Axes>"
            ]
          },
          "metadata": {
            "tags": [],
            "needs_background": "light"
          }
        }
      ]
    }
  ]
}