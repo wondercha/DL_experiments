{
  "nbformat": 4,
  "nbformat_minor": 0,
  "metadata": {
    "colab": {
      "name": "01a_titanic_dnn.ipynb",
      "provenance": [],
      "authorship_tag": "ABX9TyMZnjx/zvB5FKYoG4w8+3Tc",
      "include_colab_link": true
    },
    "kernelspec": {
      "name": "python3",
      "display_name": "Python 3"
    },
    "language_info": {
      "name": "python"
    }
  },
  "cells": [
    {
      "cell_type": "markdown",
      "metadata": {
        "id": "view-in-github",
        "colab_type": "text"
      },
      "source": [
        "<a href=\"https://colab.research.google.com/github/wondercha/DL_experiments/blob/main/01a_titanic_dnn.ipynb\" target=\"_parent\"><img src=\"https://colab.research.google.com/assets/colab-badge.svg\" alt=\"Open In Colab\"/></a>"
      ]
    },
    {
      "cell_type": "code",
      "metadata": {
        "id": "MHtAAkt-ky-7"
      },
      "source": [
        "import numpy as np\n",
        "import pandas as pd\n",
        "import pandas as pd\n",
        "\n",
        "train= pd.read_csv('https://raw.githubusercontent.com/rpi-techfundamentals/fall2018-materials/master/input/train.csv')\n",
        "test = pd.read_csv('https://raw.githubusercontent.com/rpi-techfundamentals/fall2018-materials/master/input/test.csv')"
      ],
      "execution_count": null,
      "outputs": []
    },
    {
      "cell_type": "code",
      "metadata": {
        "colab": {
          "base_uri": "https://localhost:8080/",
          "height": 204
        },
        "id": "DlgDYOPRk4gU",
        "outputId": "50651a95-228e-4c37-c769-5bffc53a9a64"
      },
      "source": [
        "#Print to standard output, and see the results in the \"log\" section below after running your script\n",
        "train.head()"
      ],
      "execution_count": null,
      "outputs": [
        {
          "output_type": "execute_result",
          "data": {
            "text/html": [
              "<div>\n",
              "<style scoped>\n",
              "    .dataframe tbody tr th:only-of-type {\n",
              "        vertical-align: middle;\n",
              "    }\n",
              "\n",
              "    .dataframe tbody tr th {\n",
              "        vertical-align: top;\n",
              "    }\n",
              "\n",
              "    .dataframe thead th {\n",
              "        text-align: right;\n",
              "    }\n",
              "</style>\n",
              "<table border=\"1\" class=\"dataframe\">\n",
              "  <thead>\n",
              "    <tr style=\"text-align: right;\">\n",
              "      <th></th>\n",
              "      <th>PassengerId</th>\n",
              "      <th>Survived</th>\n",
              "      <th>Pclass</th>\n",
              "      <th>Name</th>\n",
              "      <th>Sex</th>\n",
              "      <th>Age</th>\n",
              "      <th>SibSp</th>\n",
              "      <th>Parch</th>\n",
              "      <th>Ticket</th>\n",
              "      <th>Fare</th>\n",
              "      <th>Cabin</th>\n",
              "      <th>Embarked</th>\n",
              "    </tr>\n",
              "  </thead>\n",
              "  <tbody>\n",
              "    <tr>\n",
              "      <th>0</th>\n",
              "      <td>1</td>\n",
              "      <td>0</td>\n",
              "      <td>3</td>\n",
              "      <td>Braund, Mr. Owen Harris</td>\n",
              "      <td>male</td>\n",
              "      <td>22.0</td>\n",
              "      <td>1</td>\n",
              "      <td>0</td>\n",
              "      <td>A/5 21171</td>\n",
              "      <td>7.2500</td>\n",
              "      <td>NaN</td>\n",
              "      <td>S</td>\n",
              "    </tr>\n",
              "    <tr>\n",
              "      <th>1</th>\n",
              "      <td>2</td>\n",
              "      <td>1</td>\n",
              "      <td>1</td>\n",
              "      <td>Cumings, Mrs. John Bradley (Florence Briggs Th...</td>\n",
              "      <td>female</td>\n",
              "      <td>38.0</td>\n",
              "      <td>1</td>\n",
              "      <td>0</td>\n",
              "      <td>PC 17599</td>\n",
              "      <td>71.2833</td>\n",
              "      <td>C85</td>\n",
              "      <td>C</td>\n",
              "    </tr>\n",
              "    <tr>\n",
              "      <th>2</th>\n",
              "      <td>3</td>\n",
              "      <td>1</td>\n",
              "      <td>3</td>\n",
              "      <td>Heikkinen, Miss. Laina</td>\n",
              "      <td>female</td>\n",
              "      <td>26.0</td>\n",
              "      <td>0</td>\n",
              "      <td>0</td>\n",
              "      <td>STON/O2. 3101282</td>\n",
              "      <td>7.9250</td>\n",
              "      <td>NaN</td>\n",
              "      <td>S</td>\n",
              "    </tr>\n",
              "    <tr>\n",
              "      <th>3</th>\n",
              "      <td>4</td>\n",
              "      <td>1</td>\n",
              "      <td>1</td>\n",
              "      <td>Futrelle, Mrs. Jacques Heath (Lily May Peel)</td>\n",
              "      <td>female</td>\n",
              "      <td>35.0</td>\n",
              "      <td>1</td>\n",
              "      <td>0</td>\n",
              "      <td>113803</td>\n",
              "      <td>53.1000</td>\n",
              "      <td>C123</td>\n",
              "      <td>S</td>\n",
              "    </tr>\n",
              "    <tr>\n",
              "      <th>4</th>\n",
              "      <td>5</td>\n",
              "      <td>0</td>\n",
              "      <td>3</td>\n",
              "      <td>Allen, Mr. William Henry</td>\n",
              "      <td>male</td>\n",
              "      <td>35.0</td>\n",
              "      <td>0</td>\n",
              "      <td>0</td>\n",
              "      <td>373450</td>\n",
              "      <td>8.0500</td>\n",
              "      <td>NaN</td>\n",
              "      <td>S</td>\n",
              "    </tr>\n",
              "  </tbody>\n",
              "</table>\n",
              "</div>"
            ],
            "text/plain": [
              "   PassengerId  Survived  Pclass  ...     Fare Cabin  Embarked\n",
              "0            1         0       3  ...   7.2500   NaN         S\n",
              "1            2         1       1  ...  71.2833   C85         C\n",
              "2            3         1       3  ...   7.9250   NaN         S\n",
              "3            4         1       1  ...  53.1000  C123         S\n",
              "4            5         0       3  ...   8.0500   NaN         S\n",
              "\n",
              "[5 rows x 12 columns]"
            ]
          },
          "metadata": {},
          "execution_count": 2
        }
      ]
    },
    {
      "cell_type": "code",
      "metadata": {
        "id": "cFcB5_XSk9Yv"
      },
      "source": [
        "#Now let's fix the missing value problem in the age field\n",
        "train[\"Age\"] = train[\"Age\"].fillna(train[\"Age\"].median())\n",
        "test[\"Age\"] = test[\"Age\"].fillna(test[\"Age\"].median())\n",
        "\n",
        "train[\"Fare\"] = train[\"Fare\"].fillna(train[\"Fare\"].median())\n",
        "test[\"Fare\"] = test[\"Fare\"].fillna(test[\"Fare\"].median())"
      ],
      "execution_count": null,
      "outputs": []
    },
    {
      "cell_type": "code",
      "metadata": {
        "id": "MYXc852Tk_B4"
      },
      "source": [
        "#For Recoding Data, we can use what we know of selecting rows and columns\n",
        "train[\"Embarked\"] = train[\"Embarked\"].fillna(\"S\")\n",
        "test[\"Embarked\"] = test[\"Embarked\"].fillna(\"S\")\n",
        "\n",
        "#Let's create a new feature called namelength\n",
        "train['NameLength'] = train['Name'].map(lambda x: len(x))\n",
        "test['NameLength'] = test['Name'].map(lambda x: len(x))\n",
        "\n",
        "dataset_title = [i.split(',')[1].split('.')[0].strip() for i in train['Name']]\n",
        "train['Title'] = pd.Series(dataset_title)\n",
        "train['Title'].value_counts()\n",
        "\n",
        "#Replace Infrequent classes\n",
        "train['Title'] = train['Title'].replace(['Lady', 'the Countess', 'Countess', 'Capt', 'Col', 'Don', 'Dr', 'Major', 'Rev', 'Sir', 'Jonkheer', 'Dona', 'Ms', 'Mme', 'Mlle'], 'Rare')\n",
        "train['Title'].value_counts()\n",
        "\n",
        "#Double check that the same works for the Test. \n",
        "dataset_title = [i.split(',')[1].split('.')[0].strip() for i in test['Name']]\n",
        "test['Title'] = pd.Series(dataset_title)\n",
        "test['Title'] = test['Title'].replace(['Lady', 'the Countess', 'Countess', 'Capt', 'Col', 'Don', 'Dr', 'Major', 'Rev', 'Sir', 'Jonkheer', 'Dona', 'Ms', 'Mme', 'Mlle'], 'Rare')\n",
        "test['Title'].value_counts()\n",
        "\n",
        "#Create a field for the family count. \n",
        "train['FamilyS'] = train['SibSp'] + train['Parch'] + 1\n",
        "test['FamilyS'] = test['SibSp'] + test['Parch'] + 1\n"
      ],
      "execution_count": null,
      "outputs": []
    },
    {
      "cell_type": "code",
      "metadata": {
        "colab": {
          "base_uri": "https://localhost:8080/",
          "height": 419
        },
        "id": "5XyuhazGlJxb",
        "outputId": "2e00fc24-09bc-461b-c3eb-37cef18b2c0d"
      },
      "source": [
        "#Create a categorical variable from the family count \n",
        "def family(x):\n",
        "    if x < 2:\n",
        "        return 'Single'\n",
        "    elif x == 2:\n",
        "        return 'Couple'\n",
        "    elif x <= 4:\n",
        "        return 'InterM'\n",
        "    else:\n",
        "        return 'Large'\n",
        "    \n",
        "train['FamilyS'] = train['FamilyS'].apply(family)\n",
        "test['FamilyS'] = test['FamilyS'].apply(family)\n",
        "\n",
        "#Drop some colums that won't be modeled. \n",
        "train_min=train.drop(['PassengerId', 'Cabin', 'Name', 'SibSp', 'Parch', 'Ticket'], axis=1)\n",
        "train_min\n",
        "test_min=test.drop(['PassengerId', 'Cabin', 'Name', 'SibSp', 'Parch', 'Ticket'], axis=1)\n",
        "train_min"
      ],
      "execution_count": null,
      "outputs": [
        {
          "output_type": "execute_result",
          "data": {
            "text/html": [
              "<div>\n",
              "<style scoped>\n",
              "    .dataframe tbody tr th:only-of-type {\n",
              "        vertical-align: middle;\n",
              "    }\n",
              "\n",
              "    .dataframe tbody tr th {\n",
              "        vertical-align: top;\n",
              "    }\n",
              "\n",
              "    .dataframe thead th {\n",
              "        text-align: right;\n",
              "    }\n",
              "</style>\n",
              "<table border=\"1\" class=\"dataframe\">\n",
              "  <thead>\n",
              "    <tr style=\"text-align: right;\">\n",
              "      <th></th>\n",
              "      <th>Survived</th>\n",
              "      <th>Pclass</th>\n",
              "      <th>Sex</th>\n",
              "      <th>Age</th>\n",
              "      <th>Fare</th>\n",
              "      <th>Embarked</th>\n",
              "      <th>NameLength</th>\n",
              "      <th>Title</th>\n",
              "      <th>FamilyS</th>\n",
              "    </tr>\n",
              "  </thead>\n",
              "  <tbody>\n",
              "    <tr>\n",
              "      <th>0</th>\n",
              "      <td>0</td>\n",
              "      <td>3</td>\n",
              "      <td>male</td>\n",
              "      <td>22.0</td>\n",
              "      <td>7.2500</td>\n",
              "      <td>S</td>\n",
              "      <td>23</td>\n",
              "      <td>Mr</td>\n",
              "      <td>Couple</td>\n",
              "    </tr>\n",
              "    <tr>\n",
              "      <th>1</th>\n",
              "      <td>1</td>\n",
              "      <td>1</td>\n",
              "      <td>female</td>\n",
              "      <td>38.0</td>\n",
              "      <td>71.2833</td>\n",
              "      <td>C</td>\n",
              "      <td>51</td>\n",
              "      <td>Mrs</td>\n",
              "      <td>Couple</td>\n",
              "    </tr>\n",
              "    <tr>\n",
              "      <th>2</th>\n",
              "      <td>1</td>\n",
              "      <td>3</td>\n",
              "      <td>female</td>\n",
              "      <td>26.0</td>\n",
              "      <td>7.9250</td>\n",
              "      <td>S</td>\n",
              "      <td>22</td>\n",
              "      <td>Miss</td>\n",
              "      <td>Single</td>\n",
              "    </tr>\n",
              "    <tr>\n",
              "      <th>3</th>\n",
              "      <td>1</td>\n",
              "      <td>1</td>\n",
              "      <td>female</td>\n",
              "      <td>35.0</td>\n",
              "      <td>53.1000</td>\n",
              "      <td>S</td>\n",
              "      <td>44</td>\n",
              "      <td>Mrs</td>\n",
              "      <td>Couple</td>\n",
              "    </tr>\n",
              "    <tr>\n",
              "      <th>4</th>\n",
              "      <td>0</td>\n",
              "      <td>3</td>\n",
              "      <td>male</td>\n",
              "      <td>35.0</td>\n",
              "      <td>8.0500</td>\n",
              "      <td>S</td>\n",
              "      <td>24</td>\n",
              "      <td>Mr</td>\n",
              "      <td>Single</td>\n",
              "    </tr>\n",
              "    <tr>\n",
              "      <th>...</th>\n",
              "      <td>...</td>\n",
              "      <td>...</td>\n",
              "      <td>...</td>\n",
              "      <td>...</td>\n",
              "      <td>...</td>\n",
              "      <td>...</td>\n",
              "      <td>...</td>\n",
              "      <td>...</td>\n",
              "      <td>...</td>\n",
              "    </tr>\n",
              "    <tr>\n",
              "      <th>886</th>\n",
              "      <td>0</td>\n",
              "      <td>2</td>\n",
              "      <td>male</td>\n",
              "      <td>27.0</td>\n",
              "      <td>13.0000</td>\n",
              "      <td>S</td>\n",
              "      <td>21</td>\n",
              "      <td>Rare</td>\n",
              "      <td>Single</td>\n",
              "    </tr>\n",
              "    <tr>\n",
              "      <th>887</th>\n",
              "      <td>1</td>\n",
              "      <td>1</td>\n",
              "      <td>female</td>\n",
              "      <td>19.0</td>\n",
              "      <td>30.0000</td>\n",
              "      <td>S</td>\n",
              "      <td>28</td>\n",
              "      <td>Miss</td>\n",
              "      <td>Single</td>\n",
              "    </tr>\n",
              "    <tr>\n",
              "      <th>888</th>\n",
              "      <td>0</td>\n",
              "      <td>3</td>\n",
              "      <td>female</td>\n",
              "      <td>28.0</td>\n",
              "      <td>23.4500</td>\n",
              "      <td>S</td>\n",
              "      <td>40</td>\n",
              "      <td>Miss</td>\n",
              "      <td>InterM</td>\n",
              "    </tr>\n",
              "    <tr>\n",
              "      <th>889</th>\n",
              "      <td>1</td>\n",
              "      <td>1</td>\n",
              "      <td>male</td>\n",
              "      <td>26.0</td>\n",
              "      <td>30.0000</td>\n",
              "      <td>C</td>\n",
              "      <td>21</td>\n",
              "      <td>Mr</td>\n",
              "      <td>Single</td>\n",
              "    </tr>\n",
              "    <tr>\n",
              "      <th>890</th>\n",
              "      <td>0</td>\n",
              "      <td>3</td>\n",
              "      <td>male</td>\n",
              "      <td>32.0</td>\n",
              "      <td>7.7500</td>\n",
              "      <td>Q</td>\n",
              "      <td>19</td>\n",
              "      <td>Mr</td>\n",
              "      <td>Single</td>\n",
              "    </tr>\n",
              "  </tbody>\n",
              "</table>\n",
              "<p>891 rows × 9 columns</p>\n",
              "</div>"
            ],
            "text/plain": [
              "     Survived  Pclass     Sex   Age     Fare Embarked  NameLength Title FamilyS\n",
              "0           0       3    male  22.0   7.2500        S          23    Mr  Couple\n",
              "1           1       1  female  38.0  71.2833        C          51   Mrs  Couple\n",
              "2           1       3  female  26.0   7.9250        S          22  Miss  Single\n",
              "3           1       1  female  35.0  53.1000        S          44   Mrs  Couple\n",
              "4           0       3    male  35.0   8.0500        S          24    Mr  Single\n",
              "..        ...     ...     ...   ...      ...      ...         ...   ...     ...\n",
              "886         0       2    male  27.0  13.0000        S          21  Rare  Single\n",
              "887         1       1  female  19.0  30.0000        S          28  Miss  Single\n",
              "888         0       3  female  28.0  23.4500        S          40  Miss  InterM\n",
              "889         1       1    male  26.0  30.0000        C          21    Mr  Single\n",
              "890         0       3    male  32.0   7.7500        Q          19    Mr  Single\n",
              "\n",
              "[891 rows x 9 columns]"
            ]
          },
          "metadata": {},
          "execution_count": 5
        }
      ]
    },
    {
      "cell_type": "code",
      "metadata": {
        "colab": {
          "base_uri": "https://localhost:8080/"
        },
        "id": "7suPJ-tmlM_k",
        "outputId": "a17d9de2-9b80-48b7-ddfe-f99358a1253e"
      },
      "source": [
        "#Adding .values will make whatever comes out into a numpy array. \n",
        "X_train = train_min.iloc[:, 1:9].values\n",
        "Y_train = train_min.iloc[:, 0].values\n",
        "X_test = test_min.iloc[:, 0:8].values\n",
        "\n",
        "print(X_test[1], X_train[1])"
      ],
      "execution_count": null,
      "outputs": [
        {
          "output_type": "stream",
          "name": "stdout",
          "text": [
            "[3 'female' 47.0 7.0 'S' 32 'Mrs' 'Couple'] [1 'female' 38.0 71.2833 'C' 51 'Mrs' 'Couple']\n"
          ]
        }
      ]
    },
    {
      "cell_type": "code",
      "metadata": {
        "colab": {
          "base_uri": "https://localhost:8080/"
        },
        "id": "A5aHUmQwljjQ",
        "outputId": "95ab6033-2d87-45a0-cb9f-3a0025da2971"
      },
      "source": [
        "# Previously we used get dummies (part of pandas)\n",
        "#Here we will first transform string labels to numeric categories. \n",
        "from sklearn.preprocessing import LabelEncoder, OneHotEncoder\n",
        "\n",
        "labelencoder_X_1 = LabelEncoder()\n",
        "X_train[:, 1] = labelencoder_X_1.fit_transform(X_train[:, 1]) #Female/male\n",
        "X_train[:, 4] = labelencoder_X_1.fit_transform(X_train[:, 4]) #Embarked\n",
        "X_train[:, 6] = labelencoder_X_1.fit_transform(X_train[:, 6]) #Title\n",
        "X_train[:, 7] = labelencoder_X_1.fit_transform(X_train[:, 7]) #Couple\n",
        "\n",
        "\n",
        "labelencoder_X_2 = LabelEncoder()\n",
        "X_test[:, 1] = labelencoder_X_2.fit_transform(X_test[:, 1])\n",
        "X_test[:, 4] = labelencoder_X_2.fit_transform(X_test[:, 4])\n",
        "X_test[:, 6] = labelencoder_X_2.fit_transform(X_test[:, 6]) \n",
        "X_test[:, 7] = labelencoder_X_2.fit_transform(X_test[:, 7])\n",
        "X_test.shape"
      ],
      "execution_count": null,
      "outputs": [
        {
          "output_type": "execute_result",
          "data": {
            "text/plain": [
              "(418, 8)"
            ]
          },
          "metadata": {},
          "execution_count": 7
        }
      ]
    },
    {
      "cell_type": "code",
      "metadata": {
        "id": "cSzIxQ4WlllD",
        "colab": {
          "base_uri": "https://localhost:8080/"
        },
        "outputId": "0449e9a0-5fc0-4042-bcd8-28ffd5cbbbac"
      },
      "source": [
        "print(pd.DataFrame(X_test).isna().sum())\n",
        "print(pd.DataFrame(X_test).isna().sum())"
      ],
      "execution_count": null,
      "outputs": [
        {
          "output_type": "stream",
          "name": "stdout",
          "text": [
            "0    0\n",
            "1    0\n",
            "2    0\n",
            "3    0\n",
            "4    0\n",
            "5    0\n",
            "6    0\n",
            "7    0\n",
            "dtype: int64\n",
            "0    0\n",
            "1    0\n",
            "2    0\n",
            "3    0\n",
            "4    0\n",
            "5    0\n",
            "6    0\n",
            "7    0\n",
            "dtype: int64\n"
          ]
        }
      ]
    },
    {
      "cell_type": "code",
      "metadata": {
        "id": "PQzj7XHflnHS"
      },
      "source": [
        "from sklearn.compose import ColumnTransformer\n",
        "categorical_features = [1, 4, 6, 7]\n",
        "ct = ColumnTransformer([(\"OneHot\", OneHotEncoder(), [1, 4, 6, 7])], remainder = \"passthrough\")\n",
        "#X_train = np.array(ct.fit_transform(X_train), dtype = np.float64)\n",
        "#X_test = np.array(ct.fit_transform(X_test), dtype = np.float64)\n",
        "X_train = ct.fit_transform(X_train.tolist())\n",
        "X_test = ct.fit_transform(X_test.tolist())\n",
        "X_train = X_train.astype('float64')\n",
        "X_test = X_test.astype('float64')\n",
        "\n",
        "# Converting numeric categories values to one-hot representation\n",
        "#one_hot_encoder = OneHotEncoder(categorical_features = [0, 1, 4, 6, 7])\n",
        "#X_train = one_hot_encoder.fit_transform(X_train).toarray()\n",
        "#X_test = one_hot_encoder.fit_transform(X_test).toarray()"
      ],
      "execution_count": null,
      "outputs": []
    },
    {
      "cell_type": "code",
      "metadata": {
        "colab": {
          "base_uri": "https://localhost:8080/"
        },
        "id": "4uHvfJlSloLI",
        "outputId": "e307c412-ef08-47b6-a62d-4ed536043cf9"
      },
      "source": [
        "#Double check no missing values or values that aren't numeric.\n",
        "print(np.isnan(X_train).sum(),np.isnan(X_test).sum())\n",
        "print(X_train[0])"
      ],
      "execution_count": null,
      "outputs": [
        {
          "output_type": "stream",
          "name": "stdout",
          "text": [
            "0 0\n",
            "[ 0.    1.    0.    0.    1.    0.    0.    1.    0.    0.    1.    0.\n",
            "  0.    0.    3.   22.    7.25 23.  ]\n"
          ]
        }
      ]
    },
    {
      "cell_type": "code",
      "metadata": {
        "colab": {
          "base_uri": "https://localhost:8080/"
        },
        "id": "378i1YHqlsA8",
        "outputId": "35405b4e-0dc1-457b-b229-4c0890638d64"
      },
      "source": [
        "#Split the data\n",
        "from sklearn.model_selection import train_test_split\n",
        "x_train, x_val, y_train, y_val = train_test_split(X_train, Y_train, test_size = 0.2)\n",
        "x_train.shape\n",
        "\n"
      ],
      "execution_count": null,
      "outputs": [
        {
          "output_type": "execute_result",
          "data": {
            "text/plain": [
              "(712, 18)"
            ]
          },
          "metadata": {},
          "execution_count": 11
        }
      ]
    },
    {
      "cell_type": "code",
      "metadata": {
        "colab": {
          "base_uri": "https://localhost:8080/"
        },
        "id": "t7u5tFvNl-0X",
        "outputId": "a86315a3-9c4b-4b5c-e912-7deb83a452f2"
      },
      "source": [
        "y_val.shape"
      ],
      "execution_count": null,
      "outputs": [
        {
          "output_type": "execute_result",
          "data": {
            "text/plain": [
              "(179,)"
            ]
          },
          "metadata": {},
          "execution_count": 13
        }
      ]
    },
    {
      "cell_type": "code",
      "metadata": {
        "id": "mHkeiUWnmAA7"
      },
      "source": [
        "#Define the model \n",
        "import torch\n",
        "import torch.nn as nn\n",
        "import torch.nn.functional as F\n",
        "\n",
        "class Net(nn.Module):\n",
        "    \n",
        "    def __init__(self):\n",
        "        super(Net, self).__init__()\n",
        "        #Note that 17 is the number of columns in the input matrix. \n",
        "        self.fc1 = nn.Linear(18, 270)\n",
        "        #270 is arbitrary, but needs to be consistent.  2 is the number of classes in the output (died/survived)\n",
        "        self.fc2 = nn.Linear(270, 2)\n",
        "        \n",
        "    def forward(self, x):\n",
        "        x = self.fc1(x)\n",
        "        x = F.dropout(x, p=0.1)\n",
        "        x = F.relu(x)\n",
        "        x = self.fc2(x)\n",
        "        x = torch.sigmoid(x)  #signmoid flattens to probability 0-1. \n",
        "        \n",
        "        return x\n",
        "    \n",
        "net = Net()"
      ],
      "execution_count": null,
      "outputs": []
    },
    {
      "cell_type": "code",
      "metadata": {
        "id": "_u0v7Gm9mBHz"
      },
      "source": [
        "#Define training\n",
        "batch_size = 50\n",
        "num_epochs = 100\n",
        "learning_rate = 0.01\n",
        "batch_no = len(x_train) // batch_size"
      ],
      "execution_count": null,
      "outputs": []
    },
    {
      "cell_type": "code",
      "metadata": {
        "id": "m80BK17XmDpA"
      },
      "source": [
        "#define loss function and optimizer \n",
        "#Adam is a specific flavor of gradient decent which is typically better\n",
        "optimizer = torch.optim.Adam(net.parameters(), lr=learning_rate)\n",
        "criterion = nn.CrossEntropyLoss()"
      ],
      "execution_count": null,
      "outputs": []
    },
    {
      "cell_type": "code",
      "metadata": {
        "colab": {
          "base_uri": "https://localhost:8080/"
        },
        "id": "IqMKv04UmF2t",
        "outputId": "0a96aca6-1620-4c76-e093-d6a80add14e8"
      },
      "source": [
        "from sklearn.utils import shuffle\n",
        "from torch.autograd import Variable\n",
        "running_loss = 0.0\n",
        "for epoch in range(num_epochs):\n",
        "    x_train, y_train = shuffle(x_train, y_train)\n",
        "    # Mini batch learning\n",
        "    for i in range(batch_no):\n",
        "        start = i * batch_size\n",
        "        end = start + batch_size\n",
        "        inputs = Variable(torch.FloatTensor(x_train[start:end]))\n",
        "        labels = Variable(torch.LongTensor(y_train[start:end]))\n",
        "        \n",
        "        # zero the parameter gradients\n",
        "        optimizer.zero_grad()\n",
        "\n",
        "        # forward + backward + optimize\n",
        "        outputs = net(inputs)\n",
        "        loss = criterion(outputs, labels)\n",
        "        loss.backward()\n",
        "        optimizer.step()\n",
        "\n",
        "        # print statistics\n",
        "        running_loss += loss.item()\n",
        "        \n",
        "    print('Epoch {}'.format(epoch+1), \"loss: \",running_loss)\n",
        "    running_loss = 0.0\n",
        "\n",
        "        \n",
        "        "
      ],
      "execution_count": null,
      "outputs": [
        {
          "output_type": "stream",
          "name": "stdout",
          "text": [
            "Epoch 1 loss:  9.73462575674057\n",
            "Epoch 2 loss:  9.704062223434448\n",
            "Epoch 3 loss:  9.704062223434448\n",
            "Epoch 4 loss:  9.704062223434448\n",
            "Epoch 5 loss:  9.704062223434448\n",
            "Epoch 6 loss:  9.704062223434448\n",
            "Epoch 7 loss:  9.704062223434448\n",
            "Epoch 8 loss:  9.704062223434448\n",
            "Epoch 9 loss:  9.704062223434448\n",
            "Epoch 10 loss:  9.704062223434448\n",
            "Epoch 11 loss:  9.704062223434448\n",
            "Epoch 12 loss:  9.704062223434448\n",
            "Epoch 13 loss:  9.704062223434448\n",
            "Epoch 14 loss:  9.704062223434448\n",
            "Epoch 15 loss:  9.704062223434448\n",
            "Epoch 16 loss:  9.704062223434448\n",
            "Epoch 17 loss:  9.704062223434448\n",
            "Epoch 18 loss:  9.704062223434448\n",
            "Epoch 19 loss:  9.704062223434448\n",
            "Epoch 20 loss:  9.704062223434448\n",
            "Epoch 21 loss:  9.704062223434448\n",
            "Epoch 22 loss:  9.704062223434448\n",
            "Epoch 23 loss:  9.704062223434448\n",
            "Epoch 24 loss:  9.704062223434448\n",
            "Epoch 25 loss:  9.704062223434448\n",
            "Epoch 26 loss:  9.704062223434448\n",
            "Epoch 27 loss:  9.704062223434448\n",
            "Epoch 28 loss:  9.704062223434448\n",
            "Epoch 29 loss:  9.704062223434448\n",
            "Epoch 30 loss:  9.704062223434448\n",
            "Epoch 31 loss:  9.704062223434448\n",
            "Epoch 32 loss:  9.704062223434448\n",
            "Epoch 33 loss:  9.704062223434448\n",
            "Epoch 34 loss:  9.704062223434448\n",
            "Epoch 35 loss:  9.704062223434448\n",
            "Epoch 36 loss:  9.704062223434448\n",
            "Epoch 37 loss:  9.704062223434448\n",
            "Epoch 38 loss:  9.704062223434448\n",
            "Epoch 39 loss:  9.704062223434448\n",
            "Epoch 40 loss:  9.704062223434448\n",
            "Epoch 41 loss:  9.704062223434448\n",
            "Epoch 42 loss:  9.704062223434448\n",
            "Epoch 43 loss:  9.704062223434448\n",
            "Epoch 44 loss:  9.704062223434448\n",
            "Epoch 45 loss:  9.704062223434448\n",
            "Epoch 46 loss:  9.704062223434448\n",
            "Epoch 47 loss:  9.704062223434448\n",
            "Epoch 48 loss:  9.704062223434448\n",
            "Epoch 49 loss:  9.704062223434448\n",
            "Epoch 50 loss:  9.704062223434448\n",
            "Epoch 51 loss:  9.704062223434448\n",
            "Epoch 52 loss:  9.704062223434448\n",
            "Epoch 53 loss:  9.704062223434448\n",
            "Epoch 54 loss:  9.704062223434448\n",
            "Epoch 55 loss:  9.704062223434448\n",
            "Epoch 56 loss:  9.704062223434448\n",
            "Epoch 57 loss:  9.704062223434448\n",
            "Epoch 58 loss:  9.704062223434448\n",
            "Epoch 59 loss:  9.704062223434448\n",
            "Epoch 60 loss:  9.704062223434448\n",
            "Epoch 61 loss:  9.704062223434448\n",
            "Epoch 62 loss:  9.704062223434448\n",
            "Epoch 63 loss:  9.704062223434448\n",
            "Epoch 64 loss:  9.704062223434448\n",
            "Epoch 65 loss:  9.704062223434448\n",
            "Epoch 66 loss:  9.704062223434448\n",
            "Epoch 67 loss:  9.704062223434448\n",
            "Epoch 68 loss:  9.704062223434448\n",
            "Epoch 69 loss:  9.704062223434448\n",
            "Epoch 70 loss:  9.704062223434448\n",
            "Epoch 71 loss:  9.704062223434448\n",
            "Epoch 72 loss:  9.704062223434448\n",
            "Epoch 73 loss:  9.704062223434448\n",
            "Epoch 74 loss:  9.704062223434448\n",
            "Epoch 75 loss:  9.704062223434448\n",
            "Epoch 76 loss:  9.704062223434448\n",
            "Epoch 77 loss:  9.704062223434448\n",
            "Epoch 78 loss:  9.704062223434448\n",
            "Epoch 79 loss:  9.704062223434448\n",
            "Epoch 80 loss:  9.704062223434448\n",
            "Epoch 81 loss:  9.704062223434448\n",
            "Epoch 82 loss:  9.704062223434448\n",
            "Epoch 83 loss:  9.704062223434448\n",
            "Epoch 84 loss:  9.704062223434448\n",
            "Epoch 85 loss:  9.704062223434448\n",
            "Epoch 86 loss:  9.704062223434448\n",
            "Epoch 87 loss:  9.704062223434448\n",
            "Epoch 88 loss:  9.704062223434448\n",
            "Epoch 89 loss:  9.704062223434448\n",
            "Epoch 90 loss:  9.704062223434448\n",
            "Epoch 91 loss:  9.704062223434448\n",
            "Epoch 92 loss:  9.704062223434448\n",
            "Epoch 93 loss:  9.704062223434448\n",
            "Epoch 94 loss:  9.704062223434448\n",
            "Epoch 95 loss:  9.704062223434448\n",
            "Epoch 96 loss:  9.704062223434448\n",
            "Epoch 97 loss:  9.704062223434448\n",
            "Epoch 98 loss:  9.704062223434448\n",
            "Epoch 99 loss:  9.704062223434448\n",
            "Epoch 100 loss:  9.704062223434448\n"
          ]
        }
      ]
    },
    {
      "cell_type": "code",
      "metadata": {
        "id": "jVn7YHIemIU2"
      },
      "source": [
        "#This is a little bit tricky to get the resulting prediction.  \n",
        "def calculate_accuracy(x,y=[]):\n",
        "  # Evaluate the model with the test set. \n",
        "  test_var = Variable(torch.FloatTensor(x), requires_grad=True)\n",
        "  with torch.no_grad():   \n",
        "      result = net(test_var) #This outputs the probability for each class.\n",
        "  values, labels = torch.max(result, 1)\n",
        "  if len(y) != 0:\n",
        "      num_right = np.sum(labels.data.numpy() == y)\n",
        "      print('Accuracy {:.2f}'.format(num_right / len(y)), \"for a total of \", len(y), \"records\")\n",
        "  else:\n",
        "      print(\"returning predictions\")\n",
        "      return labels.data.numpy()\n",
        " "
      ],
      "execution_count": null,
      "outputs": []
    },
    {
      "cell_type": "code",
      "metadata": {
        "id": "pLMvJ8CvmKQR",
        "colab": {
          "base_uri": "https://localhost:8080/"
        },
        "outputId": "59e06855-9f58-4a86-a9ba-3c3a434e3943"
      },
      "source": [
        "# Check out the accuracy. \n",
        "calculate_accuracy(x_train, y_train)\n",
        "calculate_accuracy(x_val, y_val)\n",
        "predictions=calculate_accuracy(X_test)\n",
        "len(predictions)\n",
        "predictions"
      ],
      "execution_count": null,
      "outputs": [
        {
          "output_type": "stream",
          "name": "stdout",
          "text": [
            "Accuracy 0.61 for a total of  712 records\n",
            "Accuracy 0.69 for a total of  179 records\n",
            "returning predictions\n"
          ]
        },
        {
          "output_type": "execute_result",
          "data": {
            "text/plain": [
              "array([0, 0, 0, 0, 0, 0, 0, 1, 0, 1, 0, 0, 0, 0, 0, 1, 0, 0, 0, 0, 0, 1,\n",
              "       1, 1, 0, 0, 1, 0, 0, 0, 0, 1, 0, 1, 1, 0, 0, 0, 0, 1, 0, 1, 0, 0,\n",
              "       0, 0, 0, 0, 0, 0, 1, 0, 1, 0, 0, 1, 0, 0, 0, 0, 0, 0, 0, 0, 0, 1,\n",
              "       0, 0, 0, 0, 0, 0, 0, 1, 0, 0, 0, 0, 0, 0, 1, 0, 0, 0, 0, 0, 0, 0,\n",
              "       0, 1, 1, 0, 1, 0, 1, 0, 0, 0, 0, 0, 0, 0, 0, 0, 1, 0, 0, 0, 0, 0,\n",
              "       0, 0, 0, 0, 0, 0, 0, 1, 0, 1, 1, 0, 0, 0, 0, 1, 0, 0, 0, 0, 0, 0,\n",
              "       0, 0, 0, 0, 0, 0, 0, 1, 1, 0, 0, 1, 0, 0, 1, 0, 0, 0, 0, 0, 0, 0,\n",
              "       1, 0, 0, 0, 0, 0, 0, 1, 0, 0, 0, 1, 0, 1, 1, 0, 0, 0, 0, 0, 0, 1,\n",
              "       1, 0, 1, 0, 0, 0, 1, 0, 0, 0, 1, 0, 1, 0, 0, 1, 1, 0, 1, 0, 0, 0,\n",
              "       0, 0, 0, 1, 0, 1, 0, 1, 0, 0, 1, 0, 0, 0, 1, 0, 0, 0, 0, 0, 0, 0,\n",
              "       0, 0, 0, 0, 0, 0, 0, 0, 0, 0, 1, 1, 0, 0, 0, 0, 0, 0, 0, 0, 0, 0,\n",
              "       0, 0, 1, 1, 1, 0, 1, 0, 1, 0, 0, 0, 0, 0, 0, 0, 0, 0, 0, 0, 1, 1,\n",
              "       0, 0, 0, 0, 0, 0, 0, 0, 0, 0, 0, 1, 0, 0, 0, 0, 0, 1, 0, 1, 1, 0,\n",
              "       0, 1, 0, 0, 1, 0, 0, 0, 0, 0, 1, 0, 1, 0, 0, 0, 0, 0, 0, 0, 0, 1,\n",
              "       0, 0, 0, 0, 0, 0, 0, 0, 0, 0, 0, 1, 0, 0, 0, 0, 0, 0, 1, 0, 0, 0,\n",
              "       0, 0, 0, 1, 0, 0, 0, 0, 1, 0, 0, 0, 1, 0, 0, 0, 0, 0, 0, 0, 0, 0,\n",
              "       1, 0, 1, 0, 0, 0, 0, 1, 1, 1, 1, 0, 1, 1, 0, 1, 0, 0, 0, 0, 0, 0,\n",
              "       0, 0, 0, 0, 0, 1, 0, 0, 0, 1, 0, 1, 0, 0, 0, 1, 0, 0, 1, 0, 0, 1,\n",
              "       0, 0, 0, 0, 0, 0, 1, 1, 0, 1, 0, 0, 0, 1, 0, 0, 0, 0, 0, 0, 0, 1])"
            ]
          },
          "metadata": {},
          "execution_count": 19
        }
      ]
    },
    {
      "cell_type": "code",
      "metadata": {
        "id": "8r8pAo99mLcH"
      },
      "source": [
        "#Writing to File\n",
        "submission=pd.DataFrame(test.loc[:,['PassengerId']])\n",
        "submission['Survived']=predictions\n",
        "#Any files you save will be available in the output tab below\n",
        "\n",
        "submission.to_csv('submission.csv', index=False)\n"
      ],
      "execution_count": null,
      "outputs": []
    },
    {
      "cell_type": "code",
      "metadata": {
        "id": "c2XJeIKAmNTT",
        "colab": {
          "base_uri": "https://localhost:8080/",
          "height": 17
        },
        "outputId": "9540b90c-717b-427e-e69b-30e74895a9e7"
      },
      "source": [
        "from google.colab import files\n",
        "files.download('submission.csv')"
      ],
      "execution_count": null,
      "outputs": [
        {
          "output_type": "display_data",
          "data": {
            "application/javascript": [
              "\n",
              "    async function download(id, filename, size) {\n",
              "      if (!google.colab.kernel.accessAllowed) {\n",
              "        return;\n",
              "      }\n",
              "      const div = document.createElement('div');\n",
              "      const label = document.createElement('label');\n",
              "      label.textContent = `Downloading \"${filename}\": `;\n",
              "      div.appendChild(label);\n",
              "      const progress = document.createElement('progress');\n",
              "      progress.max = size;\n",
              "      div.appendChild(progress);\n",
              "      document.body.appendChild(div);\n",
              "\n",
              "      const buffers = [];\n",
              "      let downloaded = 0;\n",
              "\n",
              "      const channel = await google.colab.kernel.comms.open(id);\n",
              "      // Send a message to notify the kernel that we're ready.\n",
              "      channel.send({})\n",
              "\n",
              "      for await (const message of channel.messages) {\n",
              "        // Send a message to notify the kernel that we're ready.\n",
              "        channel.send({})\n",
              "        if (message.buffers) {\n",
              "          for (const buffer of message.buffers) {\n",
              "            buffers.push(buffer);\n",
              "            downloaded += buffer.byteLength;\n",
              "            progress.value = downloaded;\n",
              "          }\n",
              "        }\n",
              "      }\n",
              "      const blob = new Blob(buffers, {type: 'application/binary'});\n",
              "      const a = document.createElement('a');\n",
              "      a.href = window.URL.createObjectURL(blob);\n",
              "      a.download = filename;\n",
              "      div.appendChild(a);\n",
              "      a.click();\n",
              "      div.remove();\n",
              "    }\n",
              "  "
            ],
            "text/plain": [
              "<IPython.core.display.Javascript object>"
            ]
          },
          "metadata": {}
        },
        {
          "output_type": "display_data",
          "data": {
            "application/javascript": [
              "download(\"download_1b94512d-627b-479d-956c-d1c608322b6e\", \"submission.csv\", 2839)"
            ],
            "text/plain": [
              "<IPython.core.display.Javascript object>"
            ]
          },
          "metadata": {}
        }
      ]
    },
    {
      "cell_type": "code",
      "metadata": {
        "id": "-EVd2riFmOTI",
        "colab": {
          "base_uri": "https://localhost:8080/"
        },
        "outputId": "97c9d741-aae3-4691-f742-b8c21597aa2b"
      },
      "source": [
        "# Evaluate the model\n",
        "test_var = Variable(torch.FloatTensor(x_val), requires_grad=True)\n",
        "with torch.no_grad():\n",
        "    result = net(test_var)\n",
        "values, labels = torch.max(result, 1)\n",
        "num_right = np.sum(labels.data.numpy() == y_val)\n",
        "print('Accuracy {:.2f}'.format(num_right / len(y_val)))"
      ],
      "execution_count": null,
      "outputs": [
        {
          "output_type": "stream",
          "name": "stdout",
          "text": [
            "Accuracy 0.69\n"
          ]
        }
      ]
    }
  ]
}